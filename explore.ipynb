{
 "cells": [
  {
   "cell_type": "code",
   "execution_count": 117,
   "id": "909bc093",
   "metadata": {},
   "outputs": [],
   "source": [
    "import pandas as pd\n",
    "import numpy as np\n",
    "import matplotlib.pyplot as plt\n",
    "import seaborn as sns\n",
    "import os"
   ]
  },
  {
   "cell_type": "code",
   "execution_count": 118,
   "id": "2dbd8de0",
   "metadata": {},
   "outputs": [],
   "source": [
    "\n",
    "from sklearn.model_selection import train_test_split\n",
    "from sklearn.preprocessing import OneHotEncoder, MinMaxScaler\n",
    "from sklearn.linear_model import LogisticRegression\n",
    "from sklearn.metrics import (\n",
    "    accuracy_score, precision_score, recall_score, f1_score,\n",
    "    classification_report, confusion_matrix, ConfusionMatrixDisplay)\n",
    "from sklearn.feature_selection import chi2, SelectKBest\n"
   ]
  },
  {
   "cell_type": "code",
   "execution_count": 119,
   "id": "e9f5f707",
   "metadata": {},
   "outputs": [
    {
     "data": {
      "text/html": [
       "<div>\n",
       "<style scoped>\n",
       "    .dataframe tbody tr th:only-of-type {\n",
       "        vertical-align: middle;\n",
       "    }\n",
       "\n",
       "    .dataframe tbody tr th {\n",
       "        vertical-align: top;\n",
       "    }\n",
       "\n",
       "    .dataframe thead th {\n",
       "        text-align: right;\n",
       "    }\n",
       "</style>\n",
       "<table border=\"1\" class=\"dataframe\">\n",
       "  <thead>\n",
       "    <tr style=\"text-align: right;\">\n",
       "      <th></th>\n",
       "      <th>age</th>\n",
       "      <th>job</th>\n",
       "      <th>marital</th>\n",
       "      <th>education</th>\n",
       "      <th>default</th>\n",
       "      <th>housing</th>\n",
       "      <th>loan</th>\n",
       "      <th>contact</th>\n",
       "      <th>month</th>\n",
       "      <th>day_of_week</th>\n",
       "      <th>...</th>\n",
       "      <th>campaign</th>\n",
       "      <th>pdays</th>\n",
       "      <th>previous</th>\n",
       "      <th>poutcome</th>\n",
       "      <th>emp.var.rate</th>\n",
       "      <th>cons.price.idx</th>\n",
       "      <th>cons.conf.idx</th>\n",
       "      <th>euribor3m</th>\n",
       "      <th>nr.employed</th>\n",
       "      <th>y</th>\n",
       "    </tr>\n",
       "  </thead>\n",
       "  <tbody>\n",
       "    <tr>\n",
       "      <th>0</th>\n",
       "      <td>56</td>\n",
       "      <td>housemaid</td>\n",
       "      <td>married</td>\n",
       "      <td>basic.4y</td>\n",
       "      <td>no</td>\n",
       "      <td>no</td>\n",
       "      <td>no</td>\n",
       "      <td>telephone</td>\n",
       "      <td>may</td>\n",
       "      <td>mon</td>\n",
       "      <td>...</td>\n",
       "      <td>1</td>\n",
       "      <td>999</td>\n",
       "      <td>0</td>\n",
       "      <td>nonexistent</td>\n",
       "      <td>1.1</td>\n",
       "      <td>93.994</td>\n",
       "      <td>-36.4</td>\n",
       "      <td>4.857</td>\n",
       "      <td>5191.0</td>\n",
       "      <td>no</td>\n",
       "    </tr>\n",
       "    <tr>\n",
       "      <th>1</th>\n",
       "      <td>57</td>\n",
       "      <td>services</td>\n",
       "      <td>married</td>\n",
       "      <td>high.school</td>\n",
       "      <td>unknown</td>\n",
       "      <td>no</td>\n",
       "      <td>no</td>\n",
       "      <td>telephone</td>\n",
       "      <td>may</td>\n",
       "      <td>mon</td>\n",
       "      <td>...</td>\n",
       "      <td>1</td>\n",
       "      <td>999</td>\n",
       "      <td>0</td>\n",
       "      <td>nonexistent</td>\n",
       "      <td>1.1</td>\n",
       "      <td>93.994</td>\n",
       "      <td>-36.4</td>\n",
       "      <td>4.857</td>\n",
       "      <td>5191.0</td>\n",
       "      <td>no</td>\n",
       "    </tr>\n",
       "    <tr>\n",
       "      <th>2</th>\n",
       "      <td>37</td>\n",
       "      <td>services</td>\n",
       "      <td>married</td>\n",
       "      <td>high.school</td>\n",
       "      <td>no</td>\n",
       "      <td>yes</td>\n",
       "      <td>no</td>\n",
       "      <td>telephone</td>\n",
       "      <td>may</td>\n",
       "      <td>mon</td>\n",
       "      <td>...</td>\n",
       "      <td>1</td>\n",
       "      <td>999</td>\n",
       "      <td>0</td>\n",
       "      <td>nonexistent</td>\n",
       "      <td>1.1</td>\n",
       "      <td>93.994</td>\n",
       "      <td>-36.4</td>\n",
       "      <td>4.857</td>\n",
       "      <td>5191.0</td>\n",
       "      <td>no</td>\n",
       "    </tr>\n",
       "    <tr>\n",
       "      <th>3</th>\n",
       "      <td>40</td>\n",
       "      <td>admin.</td>\n",
       "      <td>married</td>\n",
       "      <td>basic.6y</td>\n",
       "      <td>no</td>\n",
       "      <td>no</td>\n",
       "      <td>no</td>\n",
       "      <td>telephone</td>\n",
       "      <td>may</td>\n",
       "      <td>mon</td>\n",
       "      <td>...</td>\n",
       "      <td>1</td>\n",
       "      <td>999</td>\n",
       "      <td>0</td>\n",
       "      <td>nonexistent</td>\n",
       "      <td>1.1</td>\n",
       "      <td>93.994</td>\n",
       "      <td>-36.4</td>\n",
       "      <td>4.857</td>\n",
       "      <td>5191.0</td>\n",
       "      <td>no</td>\n",
       "    </tr>\n",
       "    <tr>\n",
       "      <th>4</th>\n",
       "      <td>56</td>\n",
       "      <td>services</td>\n",
       "      <td>married</td>\n",
       "      <td>high.school</td>\n",
       "      <td>no</td>\n",
       "      <td>no</td>\n",
       "      <td>yes</td>\n",
       "      <td>telephone</td>\n",
       "      <td>may</td>\n",
       "      <td>mon</td>\n",
       "      <td>...</td>\n",
       "      <td>1</td>\n",
       "      <td>999</td>\n",
       "      <td>0</td>\n",
       "      <td>nonexistent</td>\n",
       "      <td>1.1</td>\n",
       "      <td>93.994</td>\n",
       "      <td>-36.4</td>\n",
       "      <td>4.857</td>\n",
       "      <td>5191.0</td>\n",
       "      <td>no</td>\n",
       "    </tr>\n",
       "  </tbody>\n",
       "</table>\n",
       "<p>5 rows × 21 columns</p>\n",
       "</div>"
      ],
      "text/plain": [
       "   age        job  marital    education  default housing loan    contact  \\\n",
       "0   56  housemaid  married     basic.4y       no      no   no  telephone   \n",
       "1   57   services  married  high.school  unknown      no   no  telephone   \n",
       "2   37   services  married  high.school       no     yes   no  telephone   \n",
       "3   40     admin.  married     basic.6y       no      no   no  telephone   \n",
       "4   56   services  married  high.school       no      no  yes  telephone   \n",
       "\n",
       "  month day_of_week  ...  campaign  pdays  previous     poutcome emp.var.rate  \\\n",
       "0   may         mon  ...         1    999         0  nonexistent          1.1   \n",
       "1   may         mon  ...         1    999         0  nonexistent          1.1   \n",
       "2   may         mon  ...         1    999         0  nonexistent          1.1   \n",
       "3   may         mon  ...         1    999         0  nonexistent          1.1   \n",
       "4   may         mon  ...         1    999         0  nonexistent          1.1   \n",
       "\n",
       "   cons.price.idx  cons.conf.idx  euribor3m  nr.employed   y  \n",
       "0          93.994          -36.4      4.857       5191.0  no  \n",
       "1          93.994          -36.4      4.857       5191.0  no  \n",
       "2          93.994          -36.4      4.857       5191.0  no  \n",
       "3          93.994          -36.4      4.857       5191.0  no  \n",
       "4          93.994          -36.4      4.857       5191.0  no  \n",
       "\n",
       "[5 rows x 21 columns]"
      ]
     },
     "execution_count": 119,
     "metadata": {},
     "output_type": "execute_result"
    }
   ],
   "source": [
    "df = pd.read_csv(\"https://raw.githubusercontent.com/4GeeksAcademy/logistic-regression-project-tutorial/main/bank-marketing-campaign-data.csv\", sep = \";\")\n",
    "df.head()"
   ]
  },
  {
   "cell_type": "code",
   "execution_count": 120,
   "id": "00b34550",
   "metadata": {},
   "outputs": [
    {
     "name": "stdout",
     "output_type": "stream",
     "text": [
      "Tamaño del dataset: (41188, 21)\n"
     ]
    }
   ],
   "source": [
    "print(\"Tamaño del dataset:\", df.shape)"
   ]
  },
  {
   "cell_type": "code",
   "execution_count": 121,
   "id": "1e484014",
   "metadata": {},
   "outputs": [
    {
     "name": "stdout",
     "output_type": "stream",
     "text": [
      "<class 'pandas.core.frame.DataFrame'>\n",
      "RangeIndex: 41188 entries, 0 to 41187\n",
      "Data columns (total 21 columns):\n",
      " #   Column          Non-Null Count  Dtype  \n",
      "---  ------          --------------  -----  \n",
      " 0   age             41188 non-null  int64  \n",
      " 1   job             41188 non-null  object \n",
      " 2   marital         41188 non-null  object \n",
      " 3   education       41188 non-null  object \n",
      " 4   default         41188 non-null  object \n",
      " 5   housing         41188 non-null  object \n",
      " 6   loan            41188 non-null  object \n",
      " 7   contact         41188 non-null  object \n",
      " 8   month           41188 non-null  object \n",
      " 9   day_of_week     41188 non-null  object \n",
      " 10  duration        41188 non-null  int64  \n",
      " 11  campaign        41188 non-null  int64  \n",
      " 12  pdays           41188 non-null  int64  \n",
      " 13  previous        41188 non-null  int64  \n",
      " 14  poutcome        41188 non-null  object \n",
      " 15  emp.var.rate    41188 non-null  float64\n",
      " 16  cons.price.idx  41188 non-null  float64\n",
      " 17  cons.conf.idx   41188 non-null  float64\n",
      " 18  euribor3m       41188 non-null  float64\n",
      " 19  nr.employed     41188 non-null  float64\n",
      " 20  y               41188 non-null  object \n",
      "dtypes: float64(5), int64(5), object(11)\n",
      "memory usage: 6.6+ MB\n"
     ]
    }
   ],
   "source": [
    "df.info()"
   ]
  },
  {
   "cell_type": "code",
   "execution_count": 122,
   "id": "5507a3c9",
   "metadata": {},
   "outputs": [
    {
     "name": "stdout",
     "output_type": "stream",
     "text": [
      "\n",
      "Valores nulos por columna:\n",
      "age               0\n",
      "job               0\n",
      "marital           0\n",
      "education         0\n",
      "default           0\n",
      "housing           0\n",
      "loan              0\n",
      "contact           0\n",
      "month             0\n",
      "day_of_week       0\n",
      "duration          0\n",
      "campaign          0\n",
      "pdays             0\n",
      "previous          0\n",
      "poutcome          0\n",
      "emp.var.rate      0\n",
      "cons.price.idx    0\n",
      "cons.conf.idx     0\n",
      "euribor3m         0\n",
      "nr.employed       0\n",
      "y                 0\n",
      "dtype: int64\n"
     ]
    }
   ],
   "source": [
    "print(\"\\nValores nulos por columna:\")\n",
    "print(df.isnull().sum())"
   ]
  },
  {
   "cell_type": "markdown",
   "id": "ac6cb47c",
   "metadata": {},
   "source": [
    "No tenemos datos nulos en nuestro dataset."
   ]
  },
  {
   "cell_type": "code",
   "execution_count": 123,
   "id": "6ca533be",
   "metadata": {},
   "outputs": [
    {
     "name": "stdout",
     "output_type": "stream",
     "text": [
      "\n",
      "--- Distribución de la variable objetivo ---\n",
      "y\n",
      "no     0.887346\n",
      "yes    0.112654\n",
      "Name: proportion, dtype: float64\n"
     ]
    },
    {
     "data": {
      "image/png": "[encoded data removed]",
      "text/plain": [
       "<Figure size 640x480 with 1 Axes>"
      ]
     },
     "metadata": {},
     "output_type": "display_data"
    }
   ],
   "source": [
    "print(\"\\n--- Distribución de la variable objetivo ---\")\n",
    "print(df['y'].value_counts(normalize=True))\n",
    "sns.countplot(data=df, x='y')\n",
    "plt.title(\"Distribución de la variable objetivo\")\n",
    "plt.show()"
   ]
  },
  {
   "cell_type": "markdown",
   "id": "0f43033c",
   "metadata": {},
   "source": [
    "La variable objetivo en este proyecto es y, que indica si un cliente ha contratado o no un depósito a largo plazo después de la campaña de marketing.\n",
    "\n",
    "Es una variable categórica.\n",
    "\n",
    "\n",
    "Ese bloque de código te dará una visión clara de:\n",
    "\n",
    "Cuántos clientes contrataron (yes) o no contrataron (no) un depósito a largo plazo.\n",
    "\n",
    "En la  gráfica de barras vemos que la clase no es mucho más alta que yes, lo que indica un desequilibrio de clases (solo ~12% de clientes contrataron el depósito).\n",
    "\n",
    "Este desequilibrio es importante, ya que puede afectar al rendimiento del modelo."
   ]
  },
  {
   "cell_type": "code",
   "execution_count": 124,
   "id": "c39142c9",
   "metadata": {},
   "outputs": [
    {
     "name": "stdout",
     "output_type": "stream",
     "text": [
      "\n",
      "--- Análisis de outliers por variable numérica ---\n",
      "age: 469 outliers\n",
      "campaign: 2406 outliers\n",
      "previous: 5625 outliers\n",
      "emp.var.rate: 0 outliers\n",
      "cons.price.idx: 0 outliers\n",
      "cons.conf.idx: 447 outliers\n",
      "euribor3m: 0 outliers\n",
      "nr.employed: 0 outliers\n"
     ]
    }
   ],
   "source": [
    "# Análisis de outliers \n",
    "print(\"\\n--- Análisis de outliers por variable numérica ---\")\n",
    "\n",
    "numerical_cols_outliers = [\n",
    "    'age', 'campaign', 'previous', 'emp.var.rate',\n",
    "    'cons.price.idx', 'cons.conf.idx', 'euribor3m',\n",
    "    'nr.employed'\n",
    "]\n",
    "\n",
    "for col in numerical_cols_outliers:\n",
    "    Q1 = df[col].quantile(0.25)\n",
    "    Q3 = df[col].quantile(0.75)\n",
    "    IQR = Q3 - Q1\n",
    "    lower_bound = Q1 - 1.5 * IQR\n",
    "    upper_bound = Q3 + 1.5 * IQR\n",
    "    outliers = df[(df[col] < lower_bound) | (df[col] > upper_bound)]\n",
    "    print(f\"{col}: {len(outliers)} outliers\")"
   ]
  },
  {
   "cell_type": "code",
   "execution_count": 125,
   "id": "cf0e65b4",
   "metadata": {},
   "outputs": [
    {
     "data": {
      "image/png": "[encoded data removed]",
      "text/plain": [
       "<Figure size 1500x1000 with 8 Axes>"
      ]
     },
     "metadata": {},
     "output_type": "display_data"
    }
   ],
   "source": [
    "# Visualización de ouliers con boxplots\n",
    "plt.figure(figsize=(15, 10))\n",
    "for i, col in enumerate(numerical_cols_outliers):\n",
    "    plt.subplot(3, 3, i+1)\n",
    "    sns.boxplot(x=df[col])\n",
    "    plt.title(col)\n",
    "plt.tight_layout()\n",
    "plt.show()\n"
   ]
  },
  {
   "cell_type": "markdown",
   "id": "cf1b05fa",
   "metadata": {},
   "source": [
    "**Análisis de Outliers:**. \n",
    "\n",
    "**age:**  \n",
    "Se observan bastantes outliers por encima de los 70 años.  \n",
    "Pero la edad avanzada es realista y relevante para el producto financiero.   \n",
    "Decisión: mantener los outliers.  \n",
    "\n",
    "**campaign:**.   \n",
    "Muchos valores extremos. Algunas personas fueron contactadas más de 30 o 40 veces.\n",
    "Podrían ser errores o casos extremos poco útiles para el modelo.  \n",
    "Decisión: capar el valor máximo a 15   \n",
    "\n",
    "**previous:**  \n",
    "Aparecen outliers con valores hasta 7. La mayoría de los valores están entre 0 y 1.  \n",
    "Decisión: agrupamos como:  \n",
    "0 contactos anteriores.  \n",
    "1  \n",
    "2 o más"
   ]
  },
  {
   "cell_type": "code",
   "execution_count": 126,
   "id": "d3cd1f4f",
   "metadata": {},
   "outputs": [],
   "source": [
    "df['campaign'] = np.where(df['campaign'] > 15, 15, df['campaign'])\n",
    "df['previous'] = df['previous'].apply(lambda x: 2 if x >= 2 else x)"
   ]
  },
  {
   "cell_type": "code",
   "execution_count": 127,
   "id": "db2d6782",
   "metadata": {},
   "outputs": [],
   "source": [
    "# Eliminar la columna 'duration' (no disponible antes de llamar al cliente)\n",
    "df = df.drop(columns=['duration'])"
   ]
  },
  {
   "cell_type": "code",
   "execution_count": 128,
   "id": "28fafc66",
   "metadata": {},
   "outputs": [],
   "source": [
    "#Crear variable binaria si fue contactado antes o no (a partir de 'pdays')\n",
    "df['was_previously_contacted'] = df['pdays'].apply(lambda x: 0 if x == 999 else 1)\n",
    "df = df.drop(columns=['pdays'])  # Eliminamos pdays original"
   ]
  },
  {
   "cell_type": "code",
   "execution_count": 129,
   "id": "0b80c074",
   "metadata": {},
   "outputs": [],
   "source": [
    "#Convierte la variable objetivo (string) y a binaria (y_n)(numérica)\n",
    "df['y_n'] = df['y'].map({'yes': 1, 'no': 0})\n",
    "df = df.drop(columns=['y'])"
   ]
  },
  {
   "cell_type": "code",
   "execution_count": 130,
   "id": "2582c2af",
   "metadata": {},
   "outputs": [],
   "source": [
    "# Definir columnas\n",
    "categorical_cols = [\n",
    "    'job', 'marital', 'education', 'default', 'housing', 'loan',\n",
    "    'contact', 'month', 'day_of_week', 'poutcome'\n",
    "]\n",
    "numerical_cols = [\n",
    "    'age', 'campaign', 'previous', 'emp.var.rate',\n",
    "    'cons.price.idx', 'cons.conf.idx', 'euribor3m',\n",
    "    'nr.employed', 'was_previously_contacted'\n",
    "]"
   ]
  },
  {
   "cell_type": "code",
   "execution_count": 131,
   "id": "1173b78b",
   "metadata": {},
   "outputs": [],
   "source": [
    "# Escalar variables categóricas \n",
    "encoder = OneHotEncoder(handle_unknown='ignore', sparse_output=False)\n",
    "encoded_cat = encoder.fit_transform(df[categorical_cols])\n",
    "encoded_cat_df = pd.DataFrame(encoded_cat, columns=encoder.get_feature_names_out(categorical_cols))"
   ]
  },
  {
   "cell_type": "code",
   "execution_count": 132,
   "id": "3eb269b9",
   "metadata": {},
   "outputs": [],
   "source": [
    "# Escalar variables numéricas\n",
    "scaler = MinMaxScaler()\n",
    "scaled_num = scaler.fit_transform(df[numerical_cols])\n",
    "scaled_num_df = pd.DataFrame(scaled_num, columns=numerical_cols)\n"
   ]
  },
  {
   "cell_type": "code",
   "execution_count": 133,
   "id": "3610cef0",
   "metadata": {},
   "outputs": [],
   "source": [
    "# Dataset final\n",
    "df_processed = pd.concat([scaled_num_df, encoded_cat_df], axis=1)\n",
    "df_processed['y_n'] = df['y_n'].values"
   ]
  },
  {
   "cell_type": "code",
   "execution_count": 134,
   "id": "963e2e78",
   "metadata": {},
   "outputs": [],
   "source": [
    "# Guardar dataset completo procesado\n",
    "os.makedirs(\"data/processed\", exist_ok=True)\n",
    "df_processed.to_csv(\"data/processed/total_data_scaled.csv\", index=False)"
   ]
  },
  {
   "cell_type": "code",
   "execution_count": 135,
   "id": "123d779d",
   "metadata": {},
   "outputs": [],
   "source": [
    "# División en train / validación / test\n",
    "# 10% test. Del 90% restante: 20% validación, 80% entrenamiento\n",
    "X = df_processed.drop(columns=['y_n'])\n",
    "y = df_processed['y_n']"
   ]
  },
  {
   "cell_type": "code",
   "execution_count": 136,
   "id": "4bd4b135",
   "metadata": {},
   "outputs": [],
   "source": [
    "# Primero train+val y test\n",
    "X_temp, X_test, y_temp, y_test = train_test_split(X, y, test_size=0.1, random_state=42, stratify=y)"
   ]
  },
  {
   "cell_type": "code",
   "execution_count": 137,
   "id": "333dcc3f",
   "metadata": {},
   "outputs": [],
   "source": [
    "# Luego de train+val sacamos validación\n",
    "X_train, X_val, y_train, y_val = train_test_split(X_temp, y_temp, test_size=0.2, random_state=42, stratify=y_temp)"
   ]
  },
  {
   "cell_type": "code",
   "execution_count": 142,
   "id": "79648936",
   "metadata": {},
   "outputs": [],
   "source": [
    "# Modelado con todas las variables\n",
    "model_all_base = LogisticRegression(max_iter=1000, class_weight='balanced', random_state=42)\n",
    "model_all_base.fit(X_train, y_train)\n",
    "y_pred_all_base = model_all_base.predict(X_test)"
   ]
  },
  {
   "cell_type": "code",
   "execution_count": 143,
   "id": "30fcfa74",
   "metadata": {},
   "outputs": [],
   "source": [
    "# Selección de variables con chi2\n",
    "selector = SelectKBest(chi2, k=5)\n",
    "selector.fit(X_train, y_train)\n",
    "selected_columns = X_train.columns[selector.get_support()]\n",
    "\n",
    "X_train_sel = pd.DataFrame(selector.transform(X_train), columns=selected_columns)\n",
    "X_test_sel = pd.DataFrame(selector.transform(X_test), columns=selected_columns)\n",
    "X_train_sel['y_n'] = y_train.values\n",
    "X_test_sel['y_n'] = y_test.values\n",
    "\n",
    "X_train_sel.to_csv(\"data/processed/clean_train.csv\", index=False)\n",
    "X_test_sel.to_csv(\"data/processed/clean_test.csv\", index=False)\n"
   ]
  },
  {
   "cell_type": "code",
   "execution_count": 144,
   "id": "d61d3454",
   "metadata": {},
   "outputs": [
    {
     "name": "stdout",
     "output_type": "stream",
     "text": [
      "\n",
      " Las 5 variables seleccionadas con chi² son:\n",
      "['previous', 'euribor3m', 'was_previously_contacted', 'month_mar', 'poutcome_success']\n"
     ]
    }
   ],
   "source": [
    "selected_columns = X_train.columns[selector.get_support()]\n",
    "print(\"\\n Las 5 variables seleccionadas con chi² son:\")\n",
    "print(list(selected_columns))"
   ]
  },
  {
   "cell_type": "code",
   "execution_count": 145,
   "id": "80236ab4",
   "metadata": {},
   "outputs": [],
   "source": [
    "# Modelo con solo 5 variables\n",
    "X_train_small = X_train_sel.drop(columns=['y_n'])\n",
    "y_train_small = X_train_sel['y_n']\n",
    "X_test_small = X_test_sel.drop(columns=['y_n'])\n",
    "y_test_small = X_test_sel['y_n']\n",
    "\n",
    "model_sel = LogisticRegression(max_iter=1000, class_weight='balanced', random_state=42)\n",
    "model_sel.fit(X_train_small, y_train_small)\n",
    "y_pred_sel = model_sel.predict(X_test_small)"
   ]
  },
  {
   "cell_type": "code",
   "execution_count": 146,
   "id": "68b0a0e1",
   "metadata": {},
   "outputs": [
    {
     "name": "stdout",
     "output_type": "stream",
     "text": [
      "Fitting 5 folds for each of 8 candidates, totalling 40 fits\n",
      "Mejores hiperparámetros encontrados:\n",
      "{'C': 10, 'class_weight': 'balanced', 'penalty': 'l1', 'solver': 'liblinear'}\n",
      "Mejor F1-score en validación cruzada: 0.44729497443902916\n"
     ]
    }
   ],
   "source": [
    "# Optimización del modelo con GridSearchCV\n",
    "from sklearn.model_selection import GridSearchCV\n",
    "\n",
    "param_grid = {\n",
    "    'C': [0.01, 0.1, 1, 10],\n",
    "    'penalty': ['l1', 'l2'],\n",
    "    'solver': ['liblinear'],\n",
    "    'class_weight': ['balanced']\n",
    "}\n",
    "\n",
    "grid_search = GridSearchCV(LogisticRegression(max_iter=1000, random_state=42),\n",
    "                           param_grid,\n",
    "                           cv=5,\n",
    "                           scoring='f1',\n",
    "                           verbose=1)\n",
    "grid_search.fit(X_train, y_train)\n",
    "\n",
    "model_all = grid_search.best_estimator_\n",
    "y_pred_all = model_all.predict(X_test)\n",
    "\n",
    "print(\"Mejores hiperparámetros encontrados:\")\n",
    "print(grid_search.best_params_)\n",
    "print(\"Mejor F1-score en validación cruzada:\", grid_search.best_score_)"
   ]
  },
  {
   "cell_type": "code",
   "execution_count": 147,
   "id": "0014a553",
   "metadata": {},
   "outputs": [],
   "source": [
    "# Comparación de modelos\n",
    "def get_metrics(y_true, y_pred, model_name):\n",
    "    return {\n",
    "        'Modelo': model_name,\n",
    "        'Accuracy': accuracy_score(y_true, y_pred),\n",
    "        'Precision (Yes)': precision_score(y_true, y_pred),\n",
    "        'Recall (Yes)': recall_score(y_true, y_pred),\n",
    "        'F1-score (Yes)': f1_score(y_true, y_pred)\n",
    "    }\n",
    "\n",
    "metrics_all_base = get_metrics(y_test, y_pred_all_base, \"Modelo base\")\n",
    "metrics_all = get_metrics(y_test, y_pred_all, \"Modelo optimizado\")\n",
    "metrics_sel = get_metrics(y_test_small, y_pred_sel, \"5 mejores variables\")\n",
    "comparison_df = pd.DataFrame([metrics_all_base, metrics_all, metrics_sel])"
   ]
  },
  {
   "cell_type": "code",
   "execution_count": 148,
   "id": "681aa8c7",
   "metadata": {},
   "outputs": [
    {
     "data": {
      "image/png": "[encoded data removed]",
      "text/plain": [
       "<Figure size 1000x600 with 1 Axes>"
      ]
     },
     "metadata": {},
     "output_type": "display_data"
    },
    {
     "name": "stdout",
     "output_type": "stream",
     "text": [
      "                Modelo  Accuracy  Precision (Yes)  Recall (Yes)  \\\n",
      "0          Modelo base  0.829813         0.358084      0.644397   \n",
      "1    Modelo optimizado  0.828842         0.356033      0.642241   \n",
      "2  5 mejores variables  0.729789         0.255831      0.732759   \n",
      "\n",
      "   F1-score (Yes)  \n",
      "0        0.460354  \n",
      "1        0.458109  \n",
      "2        0.379253  \n"
     ]
    }
   ],
   "source": [
    "# Visualizar comparación\n",
    "ax = comparison_df.set_index(\"Modelo\").T.plot(kind=\"bar\", figsize=(10, 6))\n",
    "plt.title(\"Comparativa de rendimiento entre modelos\")\n",
    "plt.ylabel(\"Valor\")\n",
    "plt.ylim(0, 1)\n",
    "plt.grid(True, axis='y')\n",
    "plt.xticks(rotation=45)\n",
    "\n",
    "# Añadir etiquetas de valor en cada barra\n",
    "for container in ax.containers:\n",
    "    ax.bar_label(container, fmt='%.2f', label_type='edge', fontsize=8)\n",
    "\n",
    "plt.tight_layout()\n",
    "plt.show()\n",
    "\n",
    "print(comparison_df)"
   ]
  },
  {
   "cell_type": "markdown",
   "id": "e16596a6",
   "metadata": {},
   "source": [
    "**CONCLUSIÓN DE LA COMPARATIVA DE MODELOS:**\n",
    "\n",
    "Se han comparado tres enfoques para predecir si un cliente contratará un depósito a largo plazo:\n",
    "\n",
    "1. MODELO BASE:\n",
    "   - Incluye todas las variables.\n",
    "   - Buen equilibrio entre precisión (0.36) y recall (0.64).\n",
    "   - F1-score: 0.46\n",
    "   - Recomendado para campañas generales donde se busca eficiencia sin perder demasiado recall.\n",
    "\n",
    "2. MODELO OPTIMIZADO:\n",
    "   - Hiperparámetros ajustados con GridSearchCV.\n",
    "   - Resultados muy similares al modelo base.\n",
    "   - Mejor F1 en validación cruzada, pero sin mejoras notables en test.\n",
    "   - Útil si se quiere validar robustez del modelo.\n",
    "\n",
    "3. MODELO REDUCIDO (5 MEJORES VARIABLES):\n",
    "   - Menor precisión (0.26), pero mayor recall (0.73).\n",
    "   - F1-score más bajo (0.38).\n",
    "   - Ideal si el objetivo es NO perder clientes potenciales aunque se asuman más falsos positivos.\n",
    "\n",
    "CONCLUSIÓN FINAL:\n",
    "- El modelo base es el más equilibrado y eficiente para uso general.\n",
    "- El modelo optimizado no mejora sustancialmente.\n",
    "- El modelo reducido puede usarse en campañas muy agresivas donde importa más no perder oportunidades que evitar errores."
   ]
  }
 ],
 "metadata": {
  "kernelspec": {
   "display_name": "Python 3",
   "language": "python",
   "name": "python3"
  },
  "language_info": {
   "codemirror_mode": {
    "name": "ipython",
    "version": 3
   },
   "file_extension": ".py",
   "mimetype": "text/x-python",
   "name": "python",
   "nbconvert_exporter": "python",
   "pygments_lexer": "ipython3",
   "version": "3.12.1"
  }
 },
 "nbformat": 4,
 "nbformat_minor": 5
}
